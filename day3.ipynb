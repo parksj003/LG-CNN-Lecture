{
  "nbformat": 4,
  "nbformat_minor": 0,
  "metadata": {
    "colab": {
      "name": "day3.ipynb",
      "provenance": [],
      "collapsed_sections": [
        "AMBJO9SU71f3",
        "xIY-FzZb8thZ",
        "m0pasA3dcsyW",
        "yOMzxst6kcLv",
        "bg4tggpN-0Hs",
        "8HboVt8qFwJ_"
      ],
      "toc_visible": true,
      "authorship_tag": "ABX9TyNvU2E7fkNQF3ALOHusx3vX",
      "include_colab_link": true
    },
    "kernelspec": {
      "name": "python3",
      "display_name": "Python 3"
    },
    "accelerator": "GPU"
  },
  "cells": [
    {
      "cell_type": "markdown",
      "metadata": {
        "id": "view-in-github",
        "colab_type": "text"
      },
      "source": [
        "<a href=\"https://colab.research.google.com/github/parksj003/LG-CNN-Lecture/blob/master/day3.ipynb\" target=\"_parent\"><img src=\"https://colab.research.google.com/assets/colab-badge.svg\" alt=\"Open In Colab\"/></a>"
      ]
    },
    {
      "cell_type": "markdown",
      "metadata": {
        "id": "AMBJO9SU71f3",
        "colab_type": "text"
      },
      "source": [
        "# Data preparation"
      ]
    },
    {
      "cell_type": "code",
      "metadata": {
        "id": "GufNWU7e3Fac",
        "colab_type": "code",
        "colab": {}
      },
      "source": [
        "import gdown\n",
        "gdown.download(url='http://conlms.lge.com/dwn/ext/200/G006/2020/09/02/6d7d571f-916b-4ae9-af2e-072297cd4869.zip',\n",
        "               output='dataset.zip', quiet=True)\n",
        "!unzip dataset.zip -d .\n",
        "\n",
        "import matplotlib.pyplot as plt\n",
        "plt.style.use(['classic'])\n",
        " #'seaborn-dark', 'dark_background', fivethirtyeight', 'ggplot', 'bmh', 'classi"
      ],
      "execution_count": null,
      "outputs": []
    },
    {
      "cell_type": "markdown",
      "metadata": {
        "id": "xIY-FzZb8thZ",
        "colab_type": "text"
      },
      "source": [
        "# 1.Data Preprocessing"
      ]
    },
    {
      "cell_type": "code",
      "metadata": {
        "id": "HdNse6278yHG",
        "colab_type": "code",
        "colab": {}
      },
      "source": [
        "import os, shutil"
      ],
      "execution_count": null,
      "outputs": []
    },
    {
      "cell_type": "code",
      "metadata": {
        "id": "FyaTTQfN82dF",
        "colab_type": "code",
        "colab": {}
      },
      "source": [
        "original_dataset_dir = '/content/datasets/cats_and_dogs/train'\n",
        "base_dir = './datasets/cats_and_dogs_small'\n",
        "if os.path.exists(base_dir):\n",
        "    shutil.rmtree(base_dir)\n",
        "os.mkdir(base_dir)\n",
        "train_dir = os.path.join(base_dir, 'train')\n",
        "os.mkdir(train_dir)\n",
        "validation_dir = os.path.join(base_dir, 'validation')\n",
        "os.mkdir(validation_dir)\n",
        "test_dir = os.path.join(base_dir, 'test')\n",
        "os.mkdir(test_dir)\n",
        "\n",
        "#고양이 사진 디렉토리\n",
        "train_cats_dir = os.path.join(train_dir, 'cats')\n",
        "os.mkdir(train_cats_dir)\n",
        "#강아지 사진 디렉토리\n",
        "train_dogs_dir = os.path.join(train_dir, 'dogs')\n",
        "os.mkdir(train_dogs_dir)\n",
        "#validation 고양이 사진 디렉토리\n",
        "validation_cats_dir = os.path.join(validation_dir, 'cats')\n",
        "os.mkdir(validation_cats_dir)\n",
        "#validation 강아지 사진 디렉토리\n",
        "validation_dogs_dir = os.path.join(validation_dir, 'dogs')\n",
        "os.mkdir(validation_dogs_dir)\n",
        "#test 고양이 사진 디렉토리\n",
        "test_cats_dir = os.path.join(test_dir, 'cats')\n",
        "os.mkdir(test_cats_dir)\n",
        "#test 강아지 사진 디렉토리\n",
        "test_dogs_dir = os.path.join(test_dir, 'dogs')\n",
        "os.mkdir(test_dogs_dir)"
      ],
      "execution_count": null,
      "outputs": []
    },
    {
      "cell_type": "code",
      "metadata": {
        "id": "Wgu1Zi1u9R0T",
        "colab_type": "code",
        "colab": {}
      },
      "source": [
        "#처음 1000개 고양이 이미지 : train\n",
        "fnames = ['cat.{}.jpg'.format(i) for i in range(1000)]\n",
        "for fname in fnames:\n",
        "    src = os.path.join(original_dataset_dir, fname)\n",
        "    dst = os.path.join(train_cats_dir, fname)\n",
        "    shutil.copyfile(src, dst)\n",
        "    \n",
        "#500개 고양이 이미지 : validation\n",
        "fnames = ['cat.{}.jpg'.format(i) for i in range(1000, 1500)]\n",
        "for fname in fnames:\n",
        "    src = os.path.join(original_dataset_dir, fname)\n",
        "    dst = os.path.join(validation_cats_dir, fname)\n",
        "    shutil.copyfile(src, dst)   \n",
        "    \n",
        "#500개 고양이 이미지 : test\n",
        "fnames = ['cat.{}.jpg'.format(i) for i in range(1500, 2000)]\n",
        "for fname in fnames:\n",
        "    src = os.path.join(original_dataset_dir, fname)\n",
        "    dst = os.path.join(test_cats_dir, fname)\n",
        "    shutil.copyfile(src, dst)\n"
      ],
      "execution_count": null,
      "outputs": []
    },
    {
      "cell_type": "code",
      "metadata": {
        "id": "8p8lBec2_GXv",
        "colab_type": "code",
        "colab": {}
      },
      "source": [
        "#처음 1000개 개 이미지 : train\n",
        "fnames = ['dog.{}.jpg'.format(i) for i in range(1000)]\n",
        "for fname in fnames:\n",
        "    src = os.path.join(original_dataset_dir, fname)\n",
        "    dst = os.path.join(train_dogs_dir, fname)\n",
        "    shutil.copyfile(src, dst)\n",
        "    \n",
        "#500개 개 이미지 : validation\n",
        "fnames = ['dog.{}.jpg'.format(i) for i in range(1000, 1500)]\n",
        "for fname in fnames:\n",
        "    src = os.path.join(original_dataset_dir, fname)\n",
        "    dst = os.path.join(validation_dogs_dir, fname)\n",
        "    shutil.copyfile(src, dst)   \n",
        "    \n",
        "#500개 개 이미지 : test\n",
        "fnames = ['dog.{}.jpg'.format(i) for i in range(1500, 2000)]\n",
        "for fname in fnames:\n",
        "    src = os.path.join(original_dataset_dir, fname)\n",
        "    dst = os.path.join(test_dogs_dir, fname)\n",
        "    shutil.copyfile(src, dst)\n"
      ],
      "execution_count": null,
      "outputs": []
    },
    {
      "cell_type": "code",
      "metadata": {
        "id": "ckkT6y6XAMsp",
        "colab_type": "code",
        "colab": {
          "base_uri": "https://localhost:8080/"
        },
        "outputId": "d0b6a830-cc42-49e3-a4b2-1dd8e3113670"
      },
      "source": [
        "print('훈련용 고양이 이미지 개수:',len(os.listdir(train_cats_dir)))\n",
        "print('훈련용 강아지 이미지 개수:',len(os.listdir(train_dogs_dir)))\n",
        "print('검증용 고양이 이미지 개수:',len(os.listdir(validation_cats_dir)))\n",
        "print('검증용 강아지 이미지 개수:',len(os.listdir(validation_dogs_dir)))\n",
        "print('훈련용 고양이 이미지 개수:',len(os.listdir(test_cats_dir)))\n",
        "print('훈련용 강아지 이미지 개수:',len(os.listdir(test_dogs_dir)))"
      ],
      "execution_count": null,
      "outputs": [
        {
          "output_type": "stream",
          "text": [
            "훈련용 고양이 이미지 개수: 1000\n",
            "훈련용 강아지 이미지 개수: 1000\n",
            "검증용 고양이 이미지 개수: 500\n",
            "검증용 강아지 이미지 개수: 500\n",
            "훈련용 고양이 이미지 개수: 500\n",
            "훈련용 강아지 이미지 개수: 500\n"
          ],
          "name": "stdout"
        }
      ]
    },
    {
      "cell_type": "code",
      "metadata": {
        "id": "KWeWOPfbA57e",
        "colab_type": "code",
        "colab": {}
      },
      "source": [
        ""
      ],
      "execution_count": null,
      "outputs": []
    },
    {
      "cell_type": "code",
      "metadata": {
        "id": "hRUq70uiBZmQ",
        "colab_type": "code",
        "colab": {}
      },
      "source": [
        ""
      ],
      "execution_count": null,
      "outputs": []
    },
    {
      "cell_type": "markdown",
      "metadata": {
        "id": "ActOpUcMBskt",
        "colab_type": "text"
      },
      "source": [
        "# 2.CDDataModelEx1"
      ]
    },
    {
      "cell_type": "code",
      "metadata": {
        "id": "PPpb7VW0Bxgn",
        "colab_type": "code",
        "colab": {}
      },
      "source": [
        "from tensorflow.keras import layers\n",
        "from tensorflow.keras import models\n",
        "from tensorflow.keras import optimizers\n",
        "from tensorflow.keras.preprocessing.image import ImageDataGenerator\n",
        "import os\n",
        "import matplotlib.pyplot as plt"
      ],
      "execution_count": null,
      "outputs": []
    },
    {
      "cell_type": "code",
      "metadata": {
        "id": "mvmrV-KGB8jO",
        "colab_type": "code",
        "colab": {
          "base_uri": "https://localhost:8080/"
        },
        "outputId": "2046cb56-d215-4058-d359-fc152f77e06a"
      },
      "source": [
        "model = models.Sequential()\n",
        "model.add(layers.Conv2D(32, (3,3), activation='relu', input_shape=(150, 150, 3)))\n",
        "model.add(layers.MaxPooling2D(2,2))\n",
        "\n",
        "model.add(layers.Conv2D(64, (3,3), activation='relu'))\n",
        "model.add(layers.MaxPooling2D(2,2))\n",
        "\n",
        "model.add(layers.Conv2D(128, (3,3), activation='relu'))\n",
        "model.add(layers.MaxPooling2D(2,2))\n",
        "\n",
        "model.add(layers.Conv2D(128, (3,3), activation='relu'))\n",
        "model.add(layers.MaxPooling2D(2,2))\n",
        "\n",
        "model.add(layers.Flatten())\n",
        "\n",
        "model.add(layers.Dense(512, activation='relu'))\n",
        "model.add(layers.Dense(1, activation='sigmoid'))\n",
        "model.summary()"
      ],
      "execution_count": null,
      "outputs": [
        {
          "output_type": "stream",
          "text": [
            "Model: \"sequential_7\"\n",
            "_________________________________________________________________\n",
            "Layer (type)                 Output Shape              Param #   \n",
            "=================================================================\n",
            "conv2d_12 (Conv2D)           (None, 148, 148, 32)      896       \n",
            "_________________________________________________________________\n",
            "max_pooling2d_12 (MaxPooling (None, 74, 74, 32)        0         \n",
            "_________________________________________________________________\n",
            "conv2d_13 (Conv2D)           (None, 72, 72, 64)        18496     \n",
            "_________________________________________________________________\n",
            "max_pooling2d_13 (MaxPooling (None, 36, 36, 64)        0         \n",
            "_________________________________________________________________\n",
            "conv2d_14 (Conv2D)           (None, 34, 34, 128)       73856     \n",
            "_________________________________________________________________\n",
            "max_pooling2d_14 (MaxPooling (None, 17, 17, 128)       0         \n",
            "_________________________________________________________________\n",
            "conv2d_15 (Conv2D)           (None, 15, 15, 128)       147584    \n",
            "_________________________________________________________________\n",
            "max_pooling2d_15 (MaxPooling (None, 7, 7, 128)         0         \n",
            "_________________________________________________________________\n",
            "flatten_3 (Flatten)          (None, 6272)              0         \n",
            "_________________________________________________________________\n",
            "dense_14 (Dense)             (None, 512)               3211776   \n",
            "_________________________________________________________________\n",
            "dense_15 (Dense)             (None, 1)                 513       \n",
            "=================================================================\n",
            "Total params: 3,453,121\n",
            "Trainable params: 3,453,121\n",
            "Non-trainable params: 0\n",
            "_________________________________________________________________\n"
          ],
          "name": "stdout"
        }
      ]
    },
    {
      "cell_type": "code",
      "metadata": {
        "id": "wkozcZ8GCrSM",
        "colab_type": "code",
        "colab": {}
      },
      "source": [
        "model.compile(loss='binary_crossentropy', optimizer=optimizers.RMSprop(learning_rate=1e-4), metrics=['accuracy'])"
      ],
      "execution_count": null,
      "outputs": []
    },
    {
      "cell_type": "code",
      "metadata": {
        "id": "6No8ESSKDYgJ",
        "colab_type": "code",
        "colab": {}
      },
      "source": [
        "base_dir = '/content/datasets/cats_and_dogs_small'\n",
        "train_dir = os.path.join(base_dir,'train')\n",
        "validation_dir = train_dir = os.path.join(base_dir,'validation')\n",
        "\n",
        "train_datagen = ImageDataGenerator(rescale=1./255)\n",
        "validation_datagen = ImageDataGenerator(rescale=1./255)"
      ],
      "execution_count": null,
      "outputs": []
    },
    {
      "cell_type": "code",
      "metadata": {
        "id": "tY-DeCbPICnO",
        "colab_type": "code",
        "colab": {
          "base_uri": "https://localhost:8080/"
        },
        "outputId": "e5f921b8-d06f-48c0-d116-aa1f84d6205a"
      },
      "source": [
        "train_generator = train_datagen.flow_from_directory(\n",
        "    train_dir,\n",
        "    target_size=(150, 150),\n",
        "    batch_size=20,\n",
        "    class_mode='binary'\n",
        "    #binary => 0, 1 1차원배열\n",
        "    #sparse => 정수 레이블 1차원 배열\n",
        "    #categorical => one hot encoding 2차원 배열\n",
        ")\n",
        "validation_generator = validation_datagen.flow_from_directory(\n",
        "    validation_dir,\n",
        "    target_size=(150, 150),\n",
        "    batch_size=20,\n",
        "    class_mode='binary'\n",
        ")"
      ],
      "execution_count": null,
      "outputs": [
        {
          "output_type": "stream",
          "text": [
            "Found 1000 images belonging to 2 classes.\n",
            "Found 1000 images belonging to 2 classes.\n"
          ],
          "name": "stdout"
        }
      ]
    },
    {
      "cell_type": "code",
      "metadata": {
        "id": "QyzJX1ocJMRW",
        "colab_type": "code",
        "colab": {
          "base_uri": "https://localhost:8080/",
          "height": 92
        },
        "outputId": "1412fa88-0672-4f64-df21-36fb1491659c"
      },
      "source": [
        "result = model.fit_generator(\n",
        "    train_generator,\n",
        "    steps_per_epoch=100,\n",
        "    epochs=30,\n",
        "    validation_data=validation_generator,\n",
        "    validation_steps=50\n",
        ")"
      ],
      "execution_count": null,
      "outputs": [
        {
          "output_type": "stream",
          "text": [
            "Epoch 1/30\n",
            " 50/100 [==============>...............] - ETA: 2s - loss: 0.6943 - accuracy: 0.4910WARNING:tensorflow:Your input ran out of data; interrupting training. Make sure that your dataset or generator can generate at least `steps_per_epoch * epochs` batches (in this case, 3000 batches). You may need to use the repeat() function when building your dataset.\n",
            " 50/100 [==============>...............] - 6s 112ms/step - loss: 0.6943 - accuracy: 0.4910 - val_loss: 0.6825 - val_accuracy: 0.5000\n"
          ],
          "name": "stdout"
        }
      ]
    },
    {
      "cell_type": "code",
      "metadata": {
        "id": "-vNNH2rsKmc6",
        "colab_type": "code",
        "colab": {}
      },
      "source": [
        "model.save('cat_and_dogs_small_1.h5')\n",
        "\n",
        "x_len = range(len(result.history['accuracy']))\n",
        "plt.plot(x_len, result.history['accuracy'], 'bo', label='train_accuracy')\n",
        "plt.plot(x_len, result.history['val_accuracy'], 'ro', label='validation_accuracy')\n",
        "plt.legend(loc='best')\n",
        "plt.title('accuracy')\n",
        "plt.figure()\n",
        "plt.plot(x_len, result.history['loss'], 'bo', label='train_loss')\n",
        "plt.plot(x_len, result.history['val_loss'], 'ro', label='validation_loss')\n",
        "plt.legend(loc='best')\n",
        "plt.title('loss')\n",
        "plt.show()\n"
      ],
      "execution_count": null,
      "outputs": []
    },
    {
      "cell_type": "markdown",
      "metadata": {
        "id": "RZxTiaV1O-S7",
        "colab_type": "text"
      },
      "source": [
        "# 3.ImageDtaGeneratorEx"
      ]
    },
    {
      "cell_type": "code",
      "metadata": {
        "id": "siEvIs4jPXIz",
        "colab_type": "code",
        "colab": {}
      },
      "source": [
        "from tensorflow.keras.preprocessing.image import ImageDataGenerator"
      ],
      "execution_count": null,
      "outputs": []
    },
    {
      "cell_type": "code",
      "metadata": {
        "id": "Av589CqjPkyV",
        "colab_type": "code",
        "colab": {}
      },
      "source": [
        "base_dir = '/content/datasets/cats_and_dogs_small'\n",
        "train_dir = os.path.join(base_dir,'train')\n",
        "\n",
        "datagen = ImageDataGenerator(\n",
        "    rotation_range=40,\n",
        "    width_shift_range=0.2,\n",
        "    height_shift_range=0.2,\n",
        "    shear_range=0.2,\n",
        "    horizontal_flip=True,\n",
        "    fill_mode='nearest'\n",
        ")"
      ],
      "execution_count": null,
      "outputs": []
    },
    {
      "cell_type": "code",
      "metadata": {
        "id": "ylN4KyddQo8T",
        "colab_type": "code",
        "colab": {
          "base_uri": "https://localhost:8080/"
        },
        "outputId": "2d417842-bfff-408f-efce-cf7cf219d431"
      },
      "source": [
        "from tensorflow.keras.preprocessing import image\n",
        "train_cats_dir = os.path.join(train_dir, 'cats')\n",
        "fnames = sorted([os.path.join(train_cats_dir, fname) for fname in os.listdir(train_cats_dir)])\n",
        "img_path = fnames[3]\n",
        "\n",
        "img = image.load_img(img_path, target_size=(150, 150))\n",
        "x = image.img_to_array(img)\n",
        "x = x.reshape((1,) + x.shape)\n",
        "print(x.shape)"
      ],
      "execution_count": null,
      "outputs": [
        {
          "output_type": "stream",
          "text": [
            "(1, 150, 150, 3)\n"
          ],
          "name": "stdout"
        }
      ]
    },
    {
      "cell_type": "code",
      "metadata": {
        "id": "DhRZMXsgRZIw",
        "colab_type": "code",
        "colab": {}
      },
      "source": [
        "i = 0\n",
        "for batch in datagen.flow(x, batch_size=3):\n",
        "    plt.figure(i)\n",
        "    imgpot = plt.imshow(image.array_to_img(batch[0]))\n",
        "    i += 1\n",
        "    if i % 8 == 0:\n",
        "        break\n",
        "plt.show()"
      ],
      "execution_count": null,
      "outputs": []
    },
    {
      "cell_type": "markdown",
      "metadata": {
        "id": "Nne3bMR4XewB",
        "colab_type": "text"
      },
      "source": [
        "# 4.cdModelEx2\n"
      ]
    },
    {
      "cell_type": "code",
      "metadata": {
        "colab_type": "code",
        "id": "vBKMIwb6WyvJ",
        "colab": {}
      },
      "source": [
        "from tensorflow.keras import layers\n",
        "from tensorflow.keras import models\n",
        "from tensorflow.keras import optimizers\n",
        "from tensorflow.keras.preprocessing.image import ImageDataGenerator\n",
        "import os\n",
        "import matplotlib.pyplot as plt"
      ],
      "execution_count": null,
      "outputs": []
    },
    {
      "cell_type": "code",
      "metadata": {
        "colab_type": "code",
        "id": "ae1QkVx8WyvS",
        "colab": {}
      },
      "source": [
        "model = models.Sequential()\n",
        "model.add(layers.Conv2D(32, (3,3), activation='relu', input_shape=(150, 150, 3)))\n",
        "model.add(layers.MaxPooling2D(2,2))\n",
        "\n",
        "model.add(layers.Conv2D(64, (3,3), activation='relu'))\n",
        "model.add(layers.MaxPooling2D(2,2))\n",
        "\n",
        "model.add(layers.Conv2D(128, (3,3), activation='relu'))\n",
        "model.add(layers.MaxPooling2D(2,2))\n",
        "\n",
        "model.add(layers.Conv2D(128, (3,3), activation='relu'))\n",
        "model.add(layers.MaxPooling2D(2,2))\n",
        "\n",
        "model.add(layers.Flatten())\n",
        "\n",
        "model.add(layers.Dense(512, activation='relu'))\n",
        "model.add(layers.Dense(1, activation='sigmoid'))\n",
        "# model.summary()"
      ],
      "execution_count": null,
      "outputs": []
    },
    {
      "cell_type": "code",
      "metadata": {
        "colab_type": "code",
        "id": "FPH3k9ZjWyva",
        "colab": {}
      },
      "source": [
        "model.compile(loss='binary_crossentropy', optimizer=optimizers.RMSprop(learning_rate=1e-4), metrics=['accuracy'])"
      ],
      "execution_count": null,
      "outputs": []
    },
    {
      "cell_type": "code",
      "metadata": {
        "colab_type": "code",
        "id": "nQOwP6QaWyvf",
        "colab": {}
      },
      "source": [
        "base_dir = '/content/datasets/cats_and_dogs_small'\n",
        "train_dir = os.path.join(base_dir,'train')\n",
        "validation_dir = train_dir = os.path.join(base_dir,'validation')\n",
        "\n",
        "train_datagen = ImageDataGenerator(   \n",
        "    rescale=1./255, \n",
        "    rotation_range=40,\n",
        "    width_shift_range=0.2,\n",
        "    height_shift_range=0.2,\n",
        "    shear_range=0.2,\n",
        "    horizontal_flip=True,\n",
        "    fill_mode='nearest')\n",
        "validation_datagen = ImageDataGenerator(rescale=1./255)"
      ],
      "execution_count": null,
      "outputs": []
    },
    {
      "cell_type": "code",
      "metadata": {
        "colab_type": "code",
        "id": "XSTThDLvWyvl",
        "colab": {
          "base_uri": "https://localhost:8080/",
          "height": 54
        },
        "outputId": "4fc4a9ff-13e3-4f46-9332-006b76d232fb"
      },
      "source": [
        "train_generator = train_datagen.flow_from_directory(\n",
        "    train_dir,\n",
        "    target_size=(150, 150),\n",
        "    batch_size=20,\n",
        "    class_mode='binary'\n",
        "    #binary => 0, 1 1차원배열\n",
        "    #sparse => 정수 레이블 1차원 배열\n",
        "    #categorical => one hot encoding 2차원 배열\n",
        ")\n",
        "validation_generator = validation_datagen.flow_from_directory(\n",
        "    validation_dir,\n",
        "    target_size=(150, 150),\n",
        "    batch_size=20,\n",
        "    class_mode='binary'\n",
        ")"
      ],
      "execution_count": null,
      "outputs": [
        {
          "output_type": "stream",
          "text": [
            "Found 1000 images belonging to 2 classes.\n",
            "Found 1000 images belonging to 2 classes.\n"
          ],
          "name": "stdout"
        }
      ]
    },
    {
      "cell_type": "code",
      "metadata": {
        "colab_type": "code",
        "id": "mtlD7MERWyvq",
        "colab": {}
      },
      "source": [
        "result = model.fit_generator(\n",
        "    train_generator,\n",
        "    steps_per_epoch=51,\n",
        "    epochs=30,\n",
        "    validation_data=validation_generator,\n",
        "    validation_steps=50\n",
        ")"
      ],
      "execution_count": null,
      "outputs": []
    },
    {
      "cell_type": "code",
      "metadata": {
        "colab_type": "code",
        "id": "YCA2NRGNWyvu",
        "colab": {}
      },
      "source": [
        "model.save('cat_and_dogs_small_1.h5')\n",
        "\n",
        "x_len = range(len(result.history['accuracy']))\n",
        "plt.plot(x_len, result.history['accuracy'], 'bo', label='train_accuracy')\n",
        "plt.plot(x_len, result.history['val_accuracy'], 'ro', label='validation_accuracy')\n",
        "plt.legend(loc='best')\n",
        "plt.title('accuracy')\n",
        "plt.figure()\n",
        "plt.plot(x_len, result.history['loss'], 'bo', label='train_loss')\n",
        "plt.plot(x_len, result.history['val_loss'], 'ro', label='validation_loss')\n",
        "plt.legend(loc='best')\n",
        "plt.title('loss')\n",
        "plt.show()\n",
        "    "
      ],
      "execution_count": null,
      "outputs": []
    },
    {
      "cell_type": "markdown",
      "metadata": {
        "id": "m0pasA3dcsyW",
        "colab_type": "text"
      },
      "source": [
        "# 5.VGG16AddModelEx1"
      ]
    },
    {
      "cell_type": "code",
      "metadata": {
        "id": "pMSdif8rc3k-",
        "colab_type": "code",
        "colab": {}
      },
      "source": [
        "from tensorflow.keras.applications import VGG16"
      ],
      "execution_count": null,
      "outputs": []
    },
    {
      "cell_type": "code",
      "metadata": {
        "id": "anpdRezec8GF",
        "colab_type": "code",
        "colab": {}
      },
      "source": [
        "conv_base = VGG16(weights='imagenet', include_top=False, input_shape=(150, 150, 3))\n",
        "conv_base.summary()"
      ],
      "execution_count": null,
      "outputs": []
    },
    {
      "cell_type": "markdown",
      "metadata": {
        "id": "yOMzxst6kcLv",
        "colab_type": "text"
      },
      "source": [
        "# 6.VGG16AddModelEx2"
      ]
    },
    {
      "cell_type": "code",
      "metadata": {
        "id": "oHUJXyvNkfk0",
        "colab_type": "code",
        "colab": {}
      },
      "source": [
        "import os\n",
        "import numpy as np\n",
        "from tensorflow.keras.preprocessing.image import ImageDataGenerator\n",
        "from tensorflow.keras import models, layers\n",
        "from tensorflow.keras import optimizers\n",
        "import matplotlib.pyplot as plt\n",
        "from tensorflow.keras.applications import VGG16"
      ],
      "execution_count": null,
      "outputs": []
    },
    {
      "cell_type": "code",
      "metadata": {
        "id": "9y20gwfpk5jb",
        "colab_type": "code",
        "colab": {}
      },
      "source": [
        "base_dir = './datasets/cats_and_dogs_small'\n",
        "train_dir = os.path.join(base_dir, 'train')\n",
        "validation_dir = os.path.join(base_dir, 'validation')\n",
        "test_dir = os.path.join(base_dir, 'test')\n",
        "datagen = ImageDataGenerator(rescale=1./255)\n",
        "conv_base = VGG16(weights='imagenet', include_top=False,\n",
        "                  input_shape=(150,150,3))"
      ],
      "execution_count": null,
      "outputs": []
    },
    {
      "cell_type": "code",
      "metadata": {
        "id": "CsaP-TgtlSjb",
        "colab_type": "code",
        "colab": {
          "base_uri": "https://localhost:8080/"
        },
        "outputId": "460cebb6-cfef-48e3-9a72-588ee9f56069"
      },
      "source": [
        "batch_size = 20\n",
        "\n",
        "def extract_features(directory, sample_count):\n",
        "    features = np.zeros(shape=(sample_count, 4, 4, 512))\n",
        "    labels = np.zeros(shape=(sample_count))\n",
        "    generator = datagen.flow_from_directory(\n",
        "        directory,\n",
        "        target_size=(150, 150),\n",
        "        batch_size=batch_size,\n",
        "        class_mode='binary'\n",
        "    )\n",
        "\n",
        "    i = 0\n",
        "    for input_batch, label_batch in generator:\n",
        "        features_batch = conv_base.predict(input_batch)\n",
        "        features[i * batch_size: (i+1) * batch_size] = features_batch\n",
        "        labels[i * batch_size : (i+1) * batch_size] = label_batch\n",
        "        i+=1\n",
        "        if i * batch_size >= sample_count:\n",
        "            break\n",
        "    return features, labels\n",
        "    \n",
        "train_features, train_labels = extract_features(train_dir, 2000)\n",
        "validation_features, validation_labels = extract_features(validation_dir, 1000)\n",
        "test_features, test_labels = extract_features(test_dir, 1000)"
      ],
      "execution_count": null,
      "outputs": [
        {
          "output_type": "stream",
          "text": [
            "Found 2000 images belonging to 2 classes.\n",
            "Found 1000 images belonging to 2 classes.\n",
            "Found 1000 images belonging to 2 classes.\n"
          ],
          "name": "stdout"
        }
      ]
    },
    {
      "cell_type": "code",
      "metadata": {
        "id": "0JuAwNFXmRro",
        "colab_type": "code",
        "colab": {}
      },
      "source": [
        "train_features = np.reshape(train_features, (2000, 4*4*512))\n",
        "validation_features = np.reshape(validation_features, (1000, 4*4*512))\n",
        "test_features = np.reshape(test_features, (1000, 4*4*512))\n",
        "model = models.Sequential()\n",
        "# model.add(layers.Flatten())\n",
        "model.add(layers.Dense(256, activation='relu', input_dim=4*4*512))\n",
        "model.add(layers.Dropout(0.5))\n",
        "model.add(layers.Dense(1, activation='sigmoid'))\n",
        "\n",
        "model.compile(loss='binary_crossentropy',\n",
        "              optimizer=optimizers.RMSprop(lr=2e-4),\n",
        "              metrics=['accuracy'])\n",
        "\n",
        "result = model.fit(train_features, train_labels,\n",
        "                   epochs=30,\n",
        "                   batch_size=20,\n",
        "                   validation_data=(validation_features, validation_labels))"
      ],
      "execution_count": null,
      "outputs": []
    },
    {
      "cell_type": "code",
      "metadata": {
        "id": "EEGvTUDBqu5z",
        "colab_type": "code",
        "colab": {
          "base_uri": "https://localhost:8080/"
        },
        "outputId": "085ae5cb-9bac-4673-a253-9b2ec6922aab"
      },
      "source": [
        "x_len = range(len(result.history['accuracy']))\n",
        "plt.plot(x_len, result.history['accuracy'], 'bo', label='train_accuracy')\n",
        "plt.plot(x_len, result.history['val_accuracy'], 'r', label='validation_accuracy')\n",
        "plt.legend()\n",
        "plt.title('accuracy')\n",
        "plt.figure()\n",
        "plt.plot(x_len, result.history['loss'], 'bo', label='train_loss')\n",
        "plt.plot(x_len, result.history['val_loss'], 'r', label='validation_loss')\n",
        "plt.legend()\n",
        "plt.title('loss')\n",
        "plt.show()"
      ],
      "execution_count": null,
      "outputs": [
        {
          "output_type": "display_data",
          "data": {
            "image/png": "[encoded data removed]",
            "text/plain": [
              "<Figure size 640x480 with 1 Axes>"
            ]
          },
          "metadata": {
            "tags": []
          }
        },
        {
          "output_type": "display_data",
          "data": {
            "image/png": "[encoded data removed]",
            "text/plain": [
              "<Figure size 640x480 with 1 Axes>"
            ]
          },
          "metadata": {
            "tags": []
          }
        }
      ]
    },
    {
      "cell_type": "markdown",
      "metadata": {
        "id": "bg4tggpN-0Hs",
        "colab_type": "text"
      },
      "source": [
        "# 7.VGG16AddModelEx3\n"
      ]
    },
    {
      "cell_type": "code",
      "metadata": {
        "id": "ArDEhRIo-6ph",
        "colab_type": "code",
        "colab": {}
      },
      "source": [
        ""
      ],
      "execution_count": null,
      "outputs": []
    },
    {
      "cell_type": "code",
      "metadata": {
        "colab_type": "code",
        "id": "gmTtC_VI_A4v",
        "colab": {}
      },
      "source": [
        "import os\n",
        "import numpy as np\n",
        "from tensorflow.keras.preprocessing.image import ImageDataGenerator\n",
        "from tensorflow.keras import models, layers\n",
        "from tensorflow.keras import optimizers\n",
        "import matplotlib.pyplot as plt\n",
        "from tensorflow.keras.applications import VGG16\n",
        "import cv2"
      ],
      "execution_count": null,
      "outputs": []
    },
    {
      "cell_type": "code",
      "metadata": {
        "colab_type": "code",
        "id": "GmygvuDH_A40",
        "colab": {}
      },
      "source": [
        "base_dir = './datasets/cats_and_dogs_small'\n",
        "train_dir = os.path.join(base_dir, 'train')\n",
        "validation_dir = os.path.join(base_dir, 'validation')\n",
        "test_dir = os.path.join(base_dir, 'test')\n",
        "datagen = ImageDataGenerator(rescale=1./255)\n",
        "\n",
        "conv_base = VGG16(weights='imagenet', include_top=False,\n",
        "                  input_shape=(150,150,3))"
      ],
      "execution_count": null,
      "outputs": []
    },
    {
      "cell_type": "code",
      "metadata": {
        "id": "FK_HA6XA_bl6",
        "colab_type": "code",
        "colab": {
          "base_uri": "https://localhost:8080/",
          "height": 300
        },
        "outputId": "d65cff7b-7c24-4836-e44c-6a0f346ef53d"
      },
      "source": [
        "model = models.Sequential()\n",
        "model.add(conv_base)\n",
        "model.add(layers.Flatten())\n",
        "model.add(layers.Dense(256, activation='relu'))\n",
        "model.add(layers.Dense(1, activation='sigmoid'))\n",
        "model.summary()"
      ],
      "execution_count": null,
      "outputs": [
        {
          "output_type": "stream",
          "text": [
            "Model: \"sequential_11\"\n",
            "_________________________________________________________________\n",
            "Layer (type)                 Output Shape              Param #   \n",
            "=================================================================\n",
            "vgg16 (Functional)           (None, 4, 4, 512)         14714688  \n",
            "_________________________________________________________________\n",
            "flatten_5 (Flatten)          (None, 8192)              0         \n",
            "_________________________________________________________________\n",
            "dense_22 (Dense)             (None, 256)               2097408   \n",
            "_________________________________________________________________\n",
            "dense_23 (Dense)             (None, 1)                 257       \n",
            "=================================================================\n",
            "Total params: 16,812,353\n",
            "Trainable params: 16,812,353\n",
            "Non-trainable params: 0\n",
            "_________________________________________________________________\n"
          ],
          "name": "stdout"
        }
      ]
    },
    {
      "cell_type": "code",
      "metadata": {
        "id": "LvsU3gIwAIp_",
        "colab_type": "code",
        "colab": {}
      },
      "source": [
        "conv_base.trainable = False\n",
        "model.summary()"
      ],
      "execution_count": null,
      "outputs": []
    },
    {
      "cell_type": "code",
      "metadata": {
        "id": "h_mN_TEmAyAc",
        "colab_type": "code",
        "colab": {
          "base_uri": "https://localhost:8080/",
          "height": 52
        },
        "outputId": "9d7d32ec-8cb0-4de6-c181-dae6f1c5e9f0"
      },
      "source": [
        "train_datagen = ImageDataGenerator(\n",
        "    rescale=1./255,\n",
        "    rotation_range=20,\n",
        "    width_shift_range=0.1,\n",
        "    height_shift_range=0.1,\n",
        "    shear_range=0.1,\n",
        "    zoom_range=0.1,\n",
        "    horizontal_flip=True\n",
        ")\n",
        "train_generator = train_datagen.flow_from_directory(\n",
        "    train_dir,\n",
        "    target_size=(150,150),\n",
        "    batch_size=20,\n",
        "    class_mode='binary'\n",
        ")\n",
        "validata_datagen = ImageDataGenerator(rescale=1./255)\n",
        "validation_generator = validata_datagen.flow_from_directory(\n",
        "    validation_dir,\n",
        "    target_size=(150,150),\n",
        "    batch_size=20,\n",
        "    class_mode='binary'\n",
        ")"
      ],
      "execution_count": null,
      "outputs": [
        {
          "output_type": "stream",
          "text": [
            "Found 2000 images belonging to 2 classes.\n",
            "Found 1000 images belonging to 2 classes.\n"
          ],
          "name": "stdout"
        }
      ]
    },
    {
      "cell_type": "code",
      "metadata": {
        "id": "308YBTzZBq3r",
        "colab_type": "code",
        "colab": {}
      },
      "source": [
        "model.compile(loss='binary_crossentropy',\n",
        "              optimizer=optimizers.RMSprop(lr=2e-4),\n",
        "              metrics=['accuracy'])\n",
        "result = model.fit_generator(\n",
        "    train_generator,\n",
        "    steps_per_epoch=100,\n",
        "    epochs=30,\n",
        "    validation_data=validation_generator,\n",
        "    validation_steps=50\n",
        ")"
      ],
      "execution_count": null,
      "outputs": []
    },
    {
      "cell_type": "code",
      "metadata": {
        "colab_type": "code",
        "id": "zW7bY5qW_A5G",
        "colab": {}
      },
      "source": [
        "x_len = range(len(result.history['accuracy']))\n",
        "plt.plot(x_len, result.history['accuracy'], 'bo', label='train_accuracy')\n",
        "plt.plot(x_len, result.history['val_accuracy'], 'r', label='validation_accuracy')\n",
        "plt.legend()\n",
        "plt.title('accuracy')\n",
        "plt.figure()\n",
        "plt.plot(x_len, result.history['loss'], 'bo', label='train_loss')\n",
        "plt.plot(x_len, result.history['val_loss'], 'r', label='validation_loss')\n",
        "plt.legend()\n",
        "plt.title('loss')\n",
        "plt.show()"
      ],
      "execution_count": null,
      "outputs": []
    },
    {
      "cell_type": "code",
      "metadata": {
        "id": "KWp6wo5gFjAY",
        "colab_type": "code",
        "colab": {}
      },
      "source": [
        ""
      ],
      "execution_count": null,
      "outputs": []
    },
    {
      "cell_type": "markdown",
      "metadata": {
        "colab_type": "text",
        "id": "8HboVt8qFwJ_"
      },
      "source": [
        "# 8.VGG16AddModelEx4\n"
      ]
    },
    {
      "cell_type": "code",
      "metadata": {
        "colab_type": "code",
        "id": "9T8ilg2tFwKH",
        "colab": {}
      },
      "source": [
        "import os\n",
        "import numpy as np\n",
        "from tensorflow.keras.preprocessing.image import ImageDataGenerator\n",
        "from tensorflow.keras import models, layers\n",
        "from tensorflow.keras import optimizers\n",
        "import matplotlib.pyplot as plt\n",
        "from tensorflow.keras.applications import VGG16"
      ],
      "execution_count": null,
      "outputs": []
    },
    {
      "cell_type": "code",
      "metadata": {
        "colab_type": "code",
        "id": "sb1Wo41hFwKL",
        "colab": {}
      },
      "source": [
        "base_dir = './datasets/cats_and_dogs_small'\n",
        "train_dir = os.path.join(base_dir, 'train')\n",
        "validation_dir = os.path.join(base_dir, 'validation')\n",
        "test_dir = os.path.join(base_dir, 'test')\n",
        "datagen = ImageDataGenerator(rescale=1./255)\n",
        "\n",
        "conv_base = VGG16(weights='imagenet', include_top=False,\n",
        "                  input_shape=(150,150,3))"
      ],
      "execution_count": null,
      "outputs": []
    },
    {
      "cell_type": "code",
      "metadata": {
        "colab_type": "code",
        "id": "5XRP8gTxFwKP",
        "colab": {
          "base_uri": "https://localhost:8080/",
          "height": 316
        },
        "outputId": "eada3b85-2c98-4440-c0d9-771614ece61a"
      },
      "source": [
        "model = models.Sequential()\n",
        "model.add(conv_base)\n",
        "model.add(layers.Flatten())\n",
        "model.add(layers.Dense(256, activation='relu'))\n",
        "model.add(layers.Dense(1, activation='softmax'))\n",
        "model.summary()"
      ],
      "execution_count": null,
      "outputs": [
        {
          "output_type": "stream",
          "text": [
            "Model: \"sequential_12\"\n",
            "_________________________________________________________________\n",
            "Layer (type)                 Output Shape              Param #   \n",
            "=================================================================\n",
            "vgg16 (Functional)           (None, 4, 4, 512)         14714688  \n",
            "_________________________________________________________________\n",
            "flatten_6 (Flatten)          (None, 8192)              0         \n",
            "_________________________________________________________________\n",
            "dense_24 (Dense)             (None, 256)               2097408   \n",
            "_________________________________________________________________\n",
            "dense_25 (Dense)             (None, 1)                 257       \n",
            "=================================================================\n",
            "Total params: 16,812,353\n",
            "Trainable params: 16,812,353\n",
            "Non-trainable params: 0\n",
            "_________________________________________________________________\n"
          ],
          "name": "stdout"
        }
      ]
    },
    {
      "cell_type": "code",
      "metadata": {
        "colab_type": "code",
        "id": "OuAJhFznFwKZ",
        "colab": {
          "base_uri": "https://localhost:8080/",
          "height": 55
        },
        "outputId": "1923a317-7fc1-4b2b-cc83-b421603b9dde"
      },
      "source": [
        "train_datagen = ImageDataGenerator(\n",
        "    rescale=1./255,\n",
        "    rotation_range=20,\n",
        "    width_shift_range=0.1,\n",
        "    height_shift_range=0.1,\n",
        "    shear_range=0.1,\n",
        "    zoom_range=0.1,\n",
        "    horizontal_flip=True\n",
        ")\n",
        "train_generator = train_datagen.flow_from_directory(\n",
        "    train_dir,\n",
        "    target_size=(150,150),\n",
        "    batch_size=20,\n",
        "    class_mode='binary'\n",
        ")\n",
        "validata_datagen = ImageDataGenerator(rescale=1./255)\n",
        "validation_generator = validata_datagen.flow_from_directory(\n",
        "    validation_dir,\n",
        "    target_size=(150,150),\n",
        "    batch_size=20,\n",
        "    class_mode='binary'\n",
        ")"
      ],
      "execution_count": null,
      "outputs": [
        {
          "output_type": "stream",
          "text": [
            "Found 2000 images belonging to 2 classes.\n",
            "Found 1000 images belonging to 2 classes.\n"
          ],
          "name": "stdout"
        }
      ]
    },
    {
      "cell_type": "code",
      "metadata": {
        "id": "hcoYoCusF73m",
        "colab_type": "code",
        "colab": {}
      },
      "source": [
        "conv_base.trainable = True\n",
        "set_trainable = False\n",
        "for layer in conv_base.layers:\n",
        "    if layer.name == 'block5_conv1':\n",
        "        set_trainable = True\n",
        "        \n",
        "    if set_trainable:\n",
        "        layer.trainable = True              \n",
        "    else:\n",
        "        layer.trainable = False"
      ],
      "execution_count": null,
      "outputs": []
    },
    {
      "cell_type": "code",
      "metadata": {
        "id": "CM8OcMUXHjD0",
        "colab_type": "code",
        "colab": {}
      },
      "source": [
        "conv_base.summary()"
      ],
      "execution_count": null,
      "outputs": []
    },
    {
      "cell_type": "code",
      "metadata": {
        "id": "4iousrQDLRrY",
        "colab_type": "code",
        "colab": {}
      },
      "source": [
        "for layer in conv_base.layers:\n",
        "    print(layer.name, layer.trainable)"
      ],
      "execution_count": null,
      "outputs": []
    },
    {
      "cell_type": "code",
      "metadata": {
        "colab_type": "code",
        "id": "97ZLWcVdFwKf",
        "colab": {}
      },
      "source": [
        "model.compile(loss='binary_crossentropy',\n",
        "              optimizer=optimizers.RMSprop(lr=2e-4),\n",
        "              metrics=['accuracy'])\n",
        "result = model.fit_generator(\n",
        "    train_generator,\n",
        "    steps_per_epoch=100,\n",
        "    epochs=30,\n",
        "    validation_data=validation_generator,\n",
        "    validation_steps=50\n",
        ")"
      ],
      "execution_count": null,
      "outputs": []
    },
    {
      "cell_type": "code",
      "metadata": {
        "colab_type": "code",
        "id": "gQ_oGvn2FwKj",
        "colab": {}
      },
      "source": [
        "x_len = range(len(result.history['accuracy']))\n",
        "plt.plot(x_len, result.history['accuracy'], 'bo', label='train_accuracy')\n",
        "plt.plot(x_len, result.history['val_accuracy'], 'r', label='validation_accuracy')\n",
        "plt.legend()\n",
        "plt.title('accuracy')\n",
        "plt.figure()\n",
        "plt.plot(x_len, result.history['loss'], 'bo', label='train_loss')\n",
        "plt.plot(x_len, result.history['val_loss'], 'r', label='validation_loss')\n",
        "plt.legend()\n",
        "plt.title('loss')\n",
        "plt.show()"
      ],
      "execution_count": null,
      "outputs": []
    },
    {
      "cell_type": "code",
      "metadata": {
        "id": "nyJn1C33NpFu",
        "colab_type": "code",
        "colab": {}
      },
      "source": [
        ""
      ],
      "execution_count": null,
      "outputs": []
    },
    {
      "cell_type": "code",
      "metadata": {
        "colab_type": "code",
        "id": "cbbEbuQxFwKn",
        "colab": {}
      },
      "source": [
        "base_dir = './datasets/cats_and_dogs_small'\n",
        "train_dir = os.path.join(base_dir, 'train')\n",
        "validation_dir = os.path.join(base_dir, 'validation')\n",
        "test_dir = os.path.join(base_dir, 'test')\n",
        "\n",
        "conv_base = VGG16(weights='imagenet',\n",
        "                  include_top=False,\n",
        "                  input_shape=(150,150,3))\n",
        "\n",
        "model = models.Sequential()\n",
        "model.add(conv_base)\n",
        "model.add(layers.Flatten())\n",
        "model.add(layers.Dense(256, activation='relu'))\n",
        "model.add(layers.Dense(1, activation='sigmoid'))\n",
        "\n",
        "train_datagen = ImageDataGenerator(\n",
        "    rescale=1./255,\n",
        "    rotation_range=20,\n",
        "    width_shift_range=0.1,\n",
        "    height_shift_range=0.1,\n",
        "    shear_range=0.1,\n",
        "    zoom_range=0.1,\n",
        "    horizontal_flip=True\n",
        ")\n",
        "train_generator = train_datagen.flow_from_directory(\n",
        "    train_dir,\n",
        "    target_size=(150,150),\n",
        "    batch_size=20,\n",
        "    class_mode='binary'\n",
        ")\n",
        "\n",
        "validata_datagen = ImageDataGenerator(rescale=1./255)\n",
        "validation_generator = validata_datagen.flow_from_directory(\n",
        "    validation_dir,\n",
        "    target_size=(150,150),\n",
        "    batch_size=20,\n",
        "    class_mode='binary'\n",
        ")\n",
        "\n",
        "conv_base.trainable = True\n",
        "\n",
        "for layer in conv_base.layers:\n",
        "    set_trainable = False\n",
        "    if layer.name == 'block5_conv1':\n",
        "        set_trainable = True\n",
        "    if set_trainable:\n",
        "        layer.trainable = True\n",
        "    else:\n",
        "        layer.trainable = False\n",
        "\n",
        "conv_base.summary()\n",
        "\n",
        "\n",
        "model.compile(loss='binary_crossentropy',\n",
        "              optimizer=optimizers.RMSprop(lr=2e-4),\n",
        "              metrics=['accuracy'])\n",
        "\n",
        "result = model.fit_generator(\n",
        "    train_generator,\n",
        "    steps_per_epoch=100,\n",
        "    epochs=30,\n",
        "    validation_data=validation_generator,\n",
        "    validation_steps=50\n",
        ")\n",
        "\n",
        "x_len = range(len(result.history['accuracy']))\n",
        "\n",
        "plt.plot(x_len, result.history['accuracy'], 'bo', label='train_accuracy')\n",
        "plt.plot(x_len, result.history['val_accuracy'], 'r', label='validation_accuracy')\n",
        "plt.legend()\n",
        "plt.title('accuracy')\n",
        "plt.figure()\n",
        "\n",
        "plt.plot(x_len, result.history['loss'], 'bo', label='train_loss')\n",
        "plt.plot(x_len, result.history['val_loss'], 'r', label='validation_loss')\n",
        "plt.legend()\n",
        "plt.title('loss')\n",
        "plt.show()\n"
      ],
      "execution_count": null,
      "outputs": []
    },
    {
      "cell_type": "code",
      "metadata": {
        "colab_type": "code",
        "id": "Mbcn-3dsFwKr",
        "colab": {}
      },
      "source": [
        "from tensorflow.keras.models import load_model"
      ],
      "execution_count": null,
      "outputs": []
    },
    {
      "cell_type": "code",
      "metadata": {
        "id": "yDYeKBqtFiqi",
        "colab_type": "code",
        "colab": {}
      },
      "source": [
        "import gdown\n",
        "gdown.download(url='http://conlms.lge.com/dwn/ext/200/G006/2020/09/02/f4279081-b4dd-4eb8-a3c0-1db817dd081a.zip',\n",
        "               output='trained_cnn.zip', quiet=True)\n",
        "!unzip trained_cnn.zip -d ."
      ],
      "execution_count": null,
      "outputs": []
    },
    {
      "cell_type": "code",
      "metadata": {
        "id": "F4xJM7GCFtWa",
        "colab_type": "code",
        "colab": {}
      },
      "source": [
        "model = load_model('/content/cats_and_dogs_small_2.h5')"
      ],
      "execution_count": null,
      "outputs": []
    },
    {
      "cell_type": "code",
      "metadata": {
        "id": "KPyQhrAePX6Z",
        "colab_type": "code",
        "colab": {}
      },
      "source": [
        "img_path = './datasets/cats_and_dogs_small/test/cats/cat.1700.jpg'\n",
        "img = image.load_img(img_path, target_size=(150, 150))\n",
        "img_tensor = image.img_to_array(img)\n",
        "img_tensor = np.expand_dims(img_tensor, axis=0)\n",
        "print(img_tensor.shape)\n",
        "img_tensor /= 255.\n",
        "plt.imshow(img_tensor[0])\n",
        "plt.show()"
      ],
      "execution_count": null,
      "outputs": []
    },
    {
      "cell_type": "code",
      "metadata": {
        "id": "vytt9HYbQvN2",
        "colab_type": "code",
        "colab": {}
      },
      "source": [
        "model.summary()"
      ],
      "execution_count": null,
      "outputs": []
    },
    {
      "cell_type": "code",
      "metadata": {
        "id": "0QltbW9pYIZ4",
        "colab_type": "code",
        "colab": {}
      },
      "source": [
        ""
      ],
      "execution_count": null,
      "outputs": []
    },
    {
      "cell_type": "code",
      "metadata": {
        "id": "4TZhPrVgYH1W",
        "colab_type": "code",
        "colab": {
          "base_uri": "https://localhost:8080/",
          "height": 35
        },
        "outputId": "1806b0de-22b0-4e99-995a-a77df439ec34"
      },
      "source": [
        "model.input"
      ],
      "execution_count": null,
      "outputs": [
        {
          "output_type": "execute_result",
          "data": {
            "text/plain": [
              "<tf.Tensor 'conv2d_input_1:0' shape=(None, 150, 150, 3) dtype=float32>"
            ]
          },
          "metadata": {
            "tags": []
          },
          "execution_count": 236
        }
      ]
    },
    {
      "cell_type": "code",
      "metadata": {
        "id": "5w7wvGGiPZvf",
        "colab_type": "code",
        "colab": {}
      },
      "source": [
        "layer_outputs = [layer.output for layer in model.layers[:8]]\n",
        "activation_model = models.Model(inputs=model.input, outputs=layer_outputs)\n",
        "activations = activation_model.predict(img_tensor)"
      ],
      "execution_count": null,
      "outputs": []
    },
    {
      "cell_type": "code",
      "metadata": {
        "id": "TQ7EJoUFQ54h",
        "colab_type": "code",
        "colab": {}
      },
      "source": [
        "first_layer_activation = activations[0]\n",
        "print(first_layer_activation.shape)\n",
        "\n",
        "plt.matshow(first_layer_activation[0,:,:,19],cmap='viridis')\n",
        "plt.matshow(first_layer_activation[0,:,:,16],cmap='viridis')\n",
        "plt.show()"
      ],
      "execution_count": null,
      "outputs": []
    },
    {
      "cell_type": "code",
      "metadata": {
        "id": "dFCW7-QZYj9w",
        "colab_type": "code",
        "colab": {
          "base_uri": "https://localhost:8080/",
          "height": 35
        },
        "outputId": "60beaf27-45ac-4915-d73c-7a5c5d244bae"
      },
      "source": [
        "activation_model.input"
      ],
      "execution_count": null,
      "outputs": [
        {
          "output_type": "execute_result",
          "data": {
            "text/plain": [
              "<tf.Tensor 'conv2d_input_1:0' shape=(None, 150, 150, 3) dtype=float32>"
            ]
          },
          "metadata": {
            "tags": []
          },
          "execution_count": 244
        }
      ]
    },
    {
      "cell_type": "code",
      "metadata": {
        "id": "u262ptPYaygW",
        "colab_type": "code",
        "colab": {
          "base_uri": "https://localhost:8080/",
          "height": 35
        },
        "outputId": "3e79e416-3a44-40da-d78f-5383b1d2926d"
      },
      "source": [
        "128/16"
      ],
      "execution_count": null,
      "outputs": [
        {
          "output_type": "execute_result",
          "data": {
            "text/plain": [
              "8.0"
            ]
          },
          "metadata": {
            "tags": []
          },
          "execution_count": 245
        }
      ]
    },
    {
      "cell_type": "code",
      "metadata": {
        "id": "SzDGn502Tj_j",
        "colab_type": "code",
        "colab": {}
      },
      "source": [
        "layer_names = []\n",
        "for layer in model.layers[:8]:\n",
        "    layer_names.append(layer.name)\n",
        "\n",
        "ges_per_row = 16\n",
        "for layer_name, layer_activation in zip(layer_names, activations):\n",
        "    n_features = layer_activation.shape[-1]\n",
        "    size = layer_activation.shape[1]\n",
        "    n_cols = n_features // images_per_row\n",
        "    display_grid = np.zeros((size * n_cols, images_per_row * size))\n",
        "    for col in range(n_cols):\n",
        "        for row in range(images_per_row):\n",
        "            channel_image = layer_activation[0:, : , : , col*images_per_row + row]\n",
        "            channel_image -= channel_image.mean()\n",
        "            channel_image /= channel_image.std()\n",
        "            channel_image *=64\n",
        "            channel_image +=128\n",
        "            channel_image = np.clip(channel_image, 0, 255).astype('uint8')\n",
        "            display_grid[col * size : (col + 1) * size, row * size : (row + 1) * size] = channel_image\n",
        "    scale = 1. / size\n",
        "    plt.figure(figsize=(scale * display_grid.shape[1], scale * display_grid.shape[0]))\n",
        "    plt.title(layer_name)\n",
        "    plt.imshow(display_grid, aspect='auto', cmap='viridis')\n",
        "plt.show()"
      ],
      "execution_count": null,
      "outputs": []
    },
    {
      "cell_type": "code",
      "metadata": {
        "id": "v-upNztWToB2",
        "colab_type": "code",
        "colab": {
          "base_uri": "https://localhost:8080/",
          "height": 52
        },
        "outputId": "63b12901-66ff-4480-cf19-9b17a3437a72"
      },
      "source": [
        "x = layers.Input(shape=(150, 150, 3))\n",
        "h1 = layers.Conv2D(3, (3,3) )(x)\n",
        "h2 = layers.Conv2D(6, (3,3) )(x)\n",
        "h3 = layers.Conv2D(9, (3,3) )(x)\n",
        "mm = models.Model(x,  h3)\n",
        "mm.layers"
      ],
      "execution_count": null,
      "outputs": [
        {
          "output_type": "execute_result",
          "data": {
            "text/plain": [
              "[<tensorflow.python.keras.engine.input_layer.InputLayer at 0x7f541e09f278>,\n",
              " <tensorflow.python.keras.layers.convolutional.Conv2D at 0x7f541e042d68>]"
            ]
          },
          "metadata": {
            "tags": []
          },
          "execution_count": 259
        }
      ]
    },
    {
      "cell_type": "code",
      "metadata": {
        "id": "qdU0k22PdNio",
        "colab_type": "code",
        "colab": {
          "base_uri": "https://localhost:8080/",
          "height": 35
        },
        "outputId": "05bd7f6f-249f-46be-af03-291354508b26"
      },
      "source": [
        "mm.predict(img_tensor)[2].shape"
      ],
      "execution_count": null,
      "outputs": [
        {
          "output_type": "execute_result",
          "data": {
            "text/plain": [
              "(1, 148, 148, 9)"
            ]
          },
          "metadata": {
            "tags": []
          },
          "execution_count": 257
        }
      ]
    },
    {
      "cell_type": "markdown",
      "metadata": {
        "id": "BD5PwG1MgLwZ",
        "colab_type": "text"
      },
      "source": [
        "# HW day3"
      ]
    },
    {
      "cell_type": "code",
      "metadata": {
        "id": "6NVNl_D3eOTe",
        "colab_type": "code",
        "colab": {
          "base_uri": "https://localhost:8080/",
          "height": 55
        },
        "outputId": "a9d1dcb7-7b9d-4341-c94f-56ce309c1715"
      },
      "source": [
        "import gdown\n",
        "gdown.download(url='http://conlms.lge.com/dwn/ext/200/G006/2020/07/29/9cefd310-e787-4a87-9c0b-78d46f2a0fe4.zip',\n",
        "               output='test_img.zip', quiet=True)\n",
        "!unzip test_img.zip -d .\n",
        "\n",
        "import tensorflow as tf\n",
        "from tensorflow.keras import layers\n",
        "from tensorflow.keras.models import Model\n",
        "import cv2\n",
        "import numpy as np\n",
        "import matplotlib.pyplot as plt\n",
        "from tensorflow.keras.datasets import cifar10\n",
        "from tensorflow.keras.preprocessing import image\n",
        "# from tensorflow.keras.preprocessing.image import ImageDataGenerator"
      ],
      "execution_count": null,
      "outputs": [
        {
          "output_type": "stream",
          "text": [
            "Archive:  test_img.zip\n",
            "  inflating: ./test-car.jpg          \n"
          ],
          "name": "stdout"
        }
      ]
    },
    {
      "cell_type": "code",
      "metadata": {
        "id": "jNuc5iXtuPW1",
        "colab_type": "code",
        "colab": {
          "base_uri": "https://localhost:8080/",
          "height": 285
        },
        "outputId": "d54f0683-ffb1-4c68-926d-fabd2e4c995b"
      },
      "source": [
        "(X_train, y_train), (X_test, y_test) = cifar10.load_data()\n",
        "X_train = X_train/255.0\n",
        "X_test = X_test/255.0\n",
        "\n",
        "# imag_gen = ImageDataGenerator(rescale=1/255.0)\n",
        "# train_gen = imag_gen.flow(x=X_train, y=y_train, batch_size=20)\n",
        "\n",
        "img_test = image.load_img('/content/test-car.jpg', target_size=(32, 32))\n",
        "img_test = image.img_to_array(img_test)\n",
        "img_test = np.expand_dims(img_test, axis=0)\n",
        "\n",
        "plt.figure()\n",
        "plt.imshow(img_test[0,:]/255.0)\n",
        "plt.axis('off')\n",
        "plt.show()"
      ],
      "execution_count": null,
      "outputs": [
        {
          "output_type": "stream",
          "text": [
            "Downloading data from https://www.cs.toronto.edu/~kriz/cifar-10-python.tar.gz\n",
            "170500096/170498071 [==============================] - 4s 0us/step\n"
          ],
          "name": "stdout"
        },
        {
          "output_type": "display_data",
          "data": {
            "image/png": "[encoded data removed]",
            "text/plain": [
              "<Figure size 432x288 with 1 Axes>"
            ]
          },
          "metadata": {
            "tags": [],
            "needs_background": "light"
          }
        }
      ]
    },
    {
      "cell_type": "code",
      "metadata": {
        "id": "Sd_bTtu3kmV3",
        "colab_type": "code",
        "colab": {
          "base_uri": "https://localhost:8080/",
          "height": 650
        },
        "outputId": "27f1787e-4335-4d2d-e9f7-00578affce6a"
      },
      "source": [
        "x = layers.Input(shape=(32, 32, 3))\n",
        "h = layers.Conv2D(filters=64, kernel_size=(3,3), padding='same', activation='relu')(x)\n",
        "# h = layers.Conv2D(filters=64, kernel_size=(3,3), padding='same', activation='relu')(h)\n",
        "h = layers.MaxPool2D(strides=(2,2))(h)\n",
        "h = layers.Dropout(rate=0.3)(h)\n",
        "\n",
        "h = layers.Conv2D(filters=128, kernel_size=(3,3), padding='same', activation='relu')(h)\n",
        "# h = layers.Conv2D(filters=128, kernel_size=(3,3), padding='same', activation='relu')(h)\n",
        "h = layers.MaxPool2D(strides=(2,2))(h)\n",
        "h = layers.Dropout(rate=0.3)(h)\n",
        "\n",
        "h = layers.Conv2D(filters=256, kernel_size=(3,3), padding='same', activation='relu')(h)\n",
        "# h = layers.Conv2D(filters=256, kernel_size=(3,3), padding='same', activation='relu')(h)\n",
        "h = layers.MaxPool2D( strides=(2,2))(h)\n",
        "h = layers.Dropout(rate=0.3)(h)\n",
        "\n",
        "h = layers.Flatten()(h)\n",
        "h = layers.Dense(256, activation='relu')(h)\n",
        "h = layers.Dropout(rate=0.3)(h)\n",
        "y = layers.Dense(10, activation='softmax')(h)\n",
        "\n",
        "model = Model(x, y, name='my_model')\n",
        "model.compile(optimizer='adam', loss='sparse_categorical_crossentropy', metrics=['accuracy'])\n",
        "model.summary()"
      ],
      "execution_count": null,
      "outputs": [
        {
          "output_type": "stream",
          "text": [
            "Model: \"my_model\"\n",
            "_________________________________________________________________\n",
            "Layer (type)                 Output Shape              Param #   \n",
            "=================================================================\n",
            "input_2 (InputLayer)         [(None, 32, 32, 3)]       0         \n",
            "_________________________________________________________________\n",
            "conv2d_5 (Conv2D)            (None, 32, 32, 64)        1792      \n",
            "_________________________________________________________________\n",
            "max_pooling2d_5 (MaxPooling2 (None, 16, 16, 64)        0         \n",
            "_________________________________________________________________\n",
            "dropout_7 (Dropout)          (None, 16, 16, 64)        0         \n",
            "_________________________________________________________________\n",
            "conv2d_6 (Conv2D)            (None, 16, 16, 128)       73856     \n",
            "_________________________________________________________________\n",
            "max_pooling2d_6 (MaxPooling2 (None, 8, 8, 128)         0         \n",
            "_________________________________________________________________\n",
            "dropout_8 (Dropout)          (None, 8, 8, 128)         0         \n",
            "_________________________________________________________________\n",
            "conv2d_7 (Conv2D)            (None, 8, 8, 256)         295168    \n",
            "_________________________________________________________________\n",
            "max_pooling2d_7 (MaxPooling2 (None, 4, 4, 256)         0         \n",
            "_________________________________________________________________\n",
            "dropout_9 (Dropout)          (None, 4, 4, 256)         0         \n",
            "_________________________________________________________________\n",
            "flatten_2 (Flatten)          (None, 4096)              0         \n",
            "_________________________________________________________________\n",
            "dense_4 (Dense)              (None, 256)               1048832   \n",
            "_________________________________________________________________\n",
            "dropout_10 (Dropout)         (None, 256)               0         \n",
            "_________________________________________________________________\n",
            "dense_5 (Dense)              (None, 10)                2570      \n",
            "=================================================================\n",
            "Total params: 1,422,218\n",
            "Trainable params: 1,422,218\n",
            "Non-trainable params: 0\n",
            "_________________________________________________________________\n"
          ],
          "name": "stdout"
        }
      ]
    },
    {
      "cell_type": "code",
      "metadata": {
        "id": "EaUPisFEmlv-",
        "colab_type": "code",
        "colab": {
          "base_uri": "https://localhost:8080/",
          "height": 474
        },
        "outputId": "f324ab74-3184-41e4-d434-7de82069eb04"
      },
      "source": [
        "x = layers.Input(shape=(32, 32, 3))\n",
        "h = layers.Flatten()(x)\n",
        "h = layers.Dense(512, activation='relu')(h)\n",
        "h = layers.Dropout(rate=0)(h)\n",
        "h = layers.Dense(256, activation='relu')(h)\n",
        "# h = layers.Dropout(rate=0.3)(h)\n",
        "h = layers.Dense(128, activation='relu')(h)\n",
        "h = layers.Dropout(rate=0)(h)\n",
        "h = layers.Dense(64, activation='relu')(h)\n",
        "# h = layers.Dropout(rate=0.3)(h)\n",
        "y = layers.Dense(10, activation='softmax')(h)\n",
        "model = Model(x,y)\n",
        "model.compile(optimizer='adam', loss='sparse_categorical_crossentropy', metrics=['accuracy'])\n",
        "model.summary()"
      ],
      "execution_count": null,
      "outputs": [
        {
          "output_type": "stream",
          "text": [
            "Model: \"functional_13\"\n",
            "_________________________________________________________________\n",
            "Layer (type)                 Output Shape              Param #   \n",
            "=================================================================\n",
            "input_10 (InputLayer)        [(None, 32, 32, 3)]       0         \n",
            "_________________________________________________________________\n",
            "flatten_10 (Flatten)         (None, 3072)              0         \n",
            "_________________________________________________________________\n",
            "dense_37 (Dense)             (None, 512)               1573376   \n",
            "_________________________________________________________________\n",
            "dropout_35 (Dropout)         (None, 512)               0         \n",
            "_________________________________________________________________\n",
            "dense_38 (Dense)             (None, 256)               131328    \n",
            "_________________________________________________________________\n",
            "dense_39 (Dense)             (None, 128)               32896     \n",
            "_________________________________________________________________\n",
            "dropout_36 (Dropout)         (None, 128)               0         \n",
            "_________________________________________________________________\n",
            "dense_40 (Dense)             (None, 64)                8256      \n",
            "_________________________________________________________________\n",
            "dense_41 (Dense)             (None, 10)                650       \n",
            "=================================================================\n",
            "Total params: 1,746,506\n",
            "Trainable params: 1,746,506\n",
            "Non-trainable params: 0\n",
            "_________________________________________________________________\n"
          ],
          "name": "stdout"
        }
      ]
    },
    {
      "cell_type": "code",
      "metadata": {
        "id": "TAUwC4ycgohg",
        "colab_type": "code",
        "colab": {
          "base_uri": "https://localhost:8080/",
          "height": 721
        },
        "outputId": "a2315fb5-313a-4239-c007-e4a0b9294db7"
      },
      "source": [
        "result = model.fit(x=X_train, y=y_train, batch_size=20, epochs=20, validation_split=0.2)"
      ],
      "execution_count": null,
      "outputs": [
        {
          "output_type": "stream",
          "text": [
            "Epoch 1/20\n",
            "2000/2000 [==============================] - 6s 3ms/step - loss: 1.9203 - accuracy: 0.2952 - val_loss: 1.8855 - val_accuracy: 0.3228\n",
            "Epoch 2/20\n",
            "2000/2000 [==============================] - 6s 3ms/step - loss: 1.7524 - accuracy: 0.3695 - val_loss: 1.7533 - val_accuracy: 0.3707\n",
            "Epoch 3/20\n",
            "2000/2000 [==============================] - 6s 3ms/step - loss: 1.6702 - accuracy: 0.3995 - val_loss: 1.7076 - val_accuracy: 0.4013\n",
            "Epoch 4/20\n",
            "2000/2000 [==============================] - 6s 3ms/step - loss: 1.6173 - accuracy: 0.4193 - val_loss: 1.6978 - val_accuracy: 0.3950\n",
            "Epoch 5/20\n",
            "2000/2000 [==============================] - 6s 3ms/step - loss: 1.5624 - accuracy: 0.4402 - val_loss: 1.6137 - val_accuracy: 0.4301\n",
            "Epoch 6/20\n",
            "2000/2000 [==============================] - 6s 3ms/step - loss: 1.5305 - accuracy: 0.4484 - val_loss: 1.5794 - val_accuracy: 0.4408\n",
            "Epoch 7/20\n",
            "2000/2000 [==============================] - 6s 3ms/step - loss: 1.5022 - accuracy: 0.4604 - val_loss: 1.6147 - val_accuracy: 0.4250\n",
            "Epoch 8/20\n",
            "2000/2000 [==============================] - 6s 3ms/step - loss: 1.4789 - accuracy: 0.4672 - val_loss: 1.5732 - val_accuracy: 0.4397\n",
            "Epoch 9/20\n",
            "2000/2000 [==============================] - 6s 3ms/step - loss: 1.4535 - accuracy: 0.4792 - val_loss: 1.5575 - val_accuracy: 0.4482\n",
            "Epoch 10/20\n",
            "2000/2000 [==============================] - 6s 3ms/step - loss: 1.4295 - accuracy: 0.4867 - val_loss: 1.5826 - val_accuracy: 0.4370\n",
            "Epoch 11/20\n",
            "2000/2000 [==============================] - 7s 3ms/step - loss: 1.4163 - accuracy: 0.4898 - val_loss: 1.5478 - val_accuracy: 0.4551\n",
            "Epoch 12/20\n",
            "2000/2000 [==============================] - 6s 3ms/step - loss: 1.3942 - accuracy: 0.5001 - val_loss: 1.5480 - val_accuracy: 0.4563\n",
            "Epoch 13/20\n",
            "2000/2000 [==============================] - 6s 3ms/step - loss: 1.3788 - accuracy: 0.5061 - val_loss: 1.5287 - val_accuracy: 0.4613\n",
            "Epoch 14/20\n",
            "2000/2000 [==============================] - 6s 3ms/step - loss: 1.3600 - accuracy: 0.5112 - val_loss: 1.5090 - val_accuracy: 0.4701\n",
            "Epoch 15/20\n",
            "2000/2000 [==============================] - 6s 3ms/step - loss: 1.3456 - accuracy: 0.5179 - val_loss: 1.4980 - val_accuracy: 0.4687\n",
            "Epoch 16/20\n",
            "2000/2000 [==============================] - 6s 3ms/step - loss: 1.3286 - accuracy: 0.5235 - val_loss: 1.4957 - val_accuracy: 0.4762\n",
            "Epoch 17/20\n",
            "2000/2000 [==============================] - 6s 3ms/step - loss: 1.3135 - accuracy: 0.5275 - val_loss: 1.5513 - val_accuracy: 0.4598\n",
            "Epoch 18/20\n",
            "2000/2000 [==============================] - 6s 3ms/step - loss: 1.2994 - accuracy: 0.5318 - val_loss: 1.5416 - val_accuracy: 0.4670\n",
            "Epoch 19/20\n",
            "2000/2000 [==============================] - 6s 3ms/step - loss: 1.2869 - accuracy: 0.5374 - val_loss: 1.5688 - val_accuracy: 0.4585\n",
            "Epoch 20/20\n",
            "2000/2000 [==============================] - 6s 3ms/step - loss: 1.2767 - accuracy: 0.5401 - val_loss: 1.5218 - val_accuracy: 0.4734\n"
          ],
          "name": "stdout"
        }
      ]
    },
    {
      "cell_type": "code",
      "metadata": {
        "id": "59uKqtc7vlGU",
        "colab_type": "code",
        "colab": {
          "base_uri": "https://localhost:8080/",
          "height": 34
        },
        "outputId": "6e1b3b37-ef86-4a94-a6c9-2b9fdcbd5fb8"
      },
      "source": [
        "model.save('./dnn_model.h5')\n",
        "\n",
        "del model\n",
        "\n",
        "model.load_weights('.')\n",
        "labels = [\"airplane\", \"automobile\", \"bird\", \"cat\", \"deer\", \"dog\", \"frog\", \"horse\", \"ship\", \"truck\"]\n",
        "print(\"predicted item: {}\".format(labels[np.argmax(model.predict(img_test))]))"
      ],
      "execution_count": null,
      "outputs": [
        {
          "output_type": "stream",
          "text": [
            "predicted item: automobile\n"
          ],
          "name": "stdout"
        }
      ]
    },
    {
      "cell_type": "code",
      "metadata": {
        "id": "fK-AS20WiqYK",
        "colab_type": "code",
        "colab": {
          "base_uri": "https://localhost:8080/",
          "height": 545
        },
        "outputId": "6c623133-af25-470b-ec64-295e67c29e72"
      },
      "source": [
        "x_len = range(len(result.history['accuracy']))\n",
        "plt.plot(x_len, result.history['accuracy'], 'bo', label='train_accuracy')\n",
        "plt.plot(x_len, result.history['val_accuracy'], 'r', label='validation_accuracy')\n",
        "plt.legend(loc='best')\n",
        "plt.title('accuracy')\n",
        "plt.figure()\n",
        "plt.plot(x_len, result.history['loss'], 'bo', label='train_loss')\n",
        "plt.plot(x_len, result.history['val_loss'], 'r', label='validation_loss')\n",
        "plt.legend(loc='best')\n",
        "plt.title('loss')\n",
        "plt.show()"
      ],
      "execution_count": null,
      "outputs": [
        {
          "output_type": "display_data",
          "data": {
            "image/png": "[encoded data removed]",
            "text/plain": [
              "<Figure size 432x288 with 1 Axes>"
            ]
          },
          "metadata": {
            "tags": [],
            "needs_background": "light"
          }
        },
        {
          "output_type": "display_data",
          "data": {
            "image/png": "[encoded data removed]",
            "text/plain": [
              "<Figure size 432x288 with 1 Axes>"
            ]
          },
          "metadata": {
            "tags": [],
            "needs_background": "light"
          }
        }
      ]
    },
    {
      "cell_type": "code",
      "metadata": {
        "id": "GwslsCski5OG",
        "colab_type": "code",
        "colab": {}
      },
      "source": [
        ""
      ],
      "execution_count": null,
      "outputs": []
    }
  ]
}